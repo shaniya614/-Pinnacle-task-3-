{
 "cells": [
  {
   "cell_type": "code",
   "execution_count": 92,
   "id": "0252d0a5",
   "metadata": {
    "tags": []
   },
   "outputs": [],
   "source": [
    "import numpy as np\n",
    "import pandas as pd\n",
    "import matplotlib.pyplot as plt\n",
    "import seaborn as sns\n",
    "from sklearn.model_selection import train_test_split\n",
    "from string import punctuation\n",
    "from nltk.corpus import stopwords\n",
    "from nltk.tokenize import word_tokenize, RegexpTokenizer\n",
    "import tensorflow as tf\n",
    "from tensorflow.keras.preprocessing.text import Tokenizer\n",
    "from tensorflow.keras.preprocessing.sequence import pad_sequences\n",
    "from tensorflow.keras.layers import Embedding, SimpleRNN, Dense\n",
    "from tensorflow.keras.models import Sequential\n",
    "import warnings\n",
    "warnings.filterwarnings(\"ignore\")"
   ]
  },
  {
   "cell_type": "code",
   "execution_count": 2,
   "id": "6aefe3fb",
   "metadata": {
    "tags": []
   },
   "outputs": [],
   "source": [
    "df = pd.read_csv(\"C:/Users/Administrator/Downloads/archive (2)/training.1600000.processed.noemoticon.csv\",encoding='latin1')"
   ]
  },
  {
   "cell_type": "code",
   "execution_count": 3,
   "id": "7b448c0c",
   "metadata": {},
   "outputs": [
    {
     "name": "stdout",
     "output_type": "stream",
     "text": [
      "(1048572, 6)\n"
     ]
    }
   ],
   "source": [
    "print(df.shape)"
   ]
  },
  {
   "cell_type": "code",
   "execution_count": 4,
   "id": "082945bc",
   "metadata": {},
   "outputs": [
    {
     "data": {
      "text/html": [
       "<div>\n",
       "<style scoped>\n",
       "    .dataframe tbody tr th:only-of-type {\n",
       "        vertical-align: middle;\n",
       "    }\n",
       "\n",
       "    .dataframe tbody tr th {\n",
       "        vertical-align: top;\n",
       "    }\n",
       "\n",
       "    .dataframe thead th {\n",
       "        text-align: right;\n",
       "    }\n",
       "</style>\n",
       "<table border=\"1\" class=\"dataframe\">\n",
       "  <thead>\n",
       "    <tr style=\"text-align: right;\">\n",
       "      <th></th>\n",
       "      <th>polarity of tweet</th>\n",
       "      <th>id of the tweet</th>\n",
       "      <th>date of the tweet</th>\n",
       "      <th>query</th>\n",
       "      <th>user</th>\n",
       "      <th>text of the tweet</th>\n",
       "    </tr>\n",
       "  </thead>\n",
       "  <tbody>\n",
       "    <tr>\n",
       "      <th>0</th>\n",
       "      <td>0</td>\n",
       "      <td>1467810672</td>\n",
       "      <td>Mon Apr 06 22:19:49 PDT 2009</td>\n",
       "      <td>NO_QUERY</td>\n",
       "      <td>scotthamilton</td>\n",
       "      <td>is upset that he can't update his Facebook by ...</td>\n",
       "    </tr>\n",
       "    <tr>\n",
       "      <th>1</th>\n",
       "      <td>0</td>\n",
       "      <td>1467810917</td>\n",
       "      <td>Mon Apr 06 22:19:53 PDT 2009</td>\n",
       "      <td>NO_QUERY</td>\n",
       "      <td>mattycus</td>\n",
       "      <td>@Kenichan I dived many times for the ball. Man...</td>\n",
       "    </tr>\n",
       "    <tr>\n",
       "      <th>2</th>\n",
       "      <td>0</td>\n",
       "      <td>1467811184</td>\n",
       "      <td>Mon Apr 06 22:19:57 PDT 2009</td>\n",
       "      <td>NO_QUERY</td>\n",
       "      <td>ElleCTF</td>\n",
       "      <td>my whole body feels itchy and like its on fire</td>\n",
       "    </tr>\n",
       "    <tr>\n",
       "      <th>3</th>\n",
       "      <td>0</td>\n",
       "      <td>1467811193</td>\n",
       "      <td>Mon Apr 06 22:19:57 PDT 2009</td>\n",
       "      <td>NO_QUERY</td>\n",
       "      <td>Karoli</td>\n",
       "      <td>@nationwideclass no, it's not behaving at all....</td>\n",
       "    </tr>\n",
       "    <tr>\n",
       "      <th>4</th>\n",
       "      <td>0</td>\n",
       "      <td>1467811372</td>\n",
       "      <td>Mon Apr 06 22:20:00 PDT 2009</td>\n",
       "      <td>NO_QUERY</td>\n",
       "      <td>joy_wolf</td>\n",
       "      <td>@Kwesidei not the whole crew</td>\n",
       "    </tr>\n",
       "  </tbody>\n",
       "</table>\n",
       "</div>"
      ],
      "text/plain": [
       "   polarity of tweet   id of the tweet             date of the tweet  \\\n",
       "0                   0       1467810672  Mon Apr 06 22:19:49 PDT 2009   \n",
       "1                   0       1467810917  Mon Apr 06 22:19:53 PDT 2009   \n",
       "2                   0       1467811184  Mon Apr 06 22:19:57 PDT 2009   \n",
       "3                   0       1467811193  Mon Apr 06 22:19:57 PDT 2009   \n",
       "4                   0       1467811372  Mon Apr 06 22:20:00 PDT 2009   \n",
       "\n",
       "      query           user                                 text of the tweet   \n",
       "0  NO_QUERY  scotthamilton  is upset that he can't update his Facebook by ...  \n",
       "1  NO_QUERY       mattycus  @Kenichan I dived many times for the ball. Man...  \n",
       "2  NO_QUERY        ElleCTF    my whole body feels itchy and like its on fire   \n",
       "3  NO_QUERY         Karoli  @nationwideclass no, it's not behaving at all....  \n",
       "4  NO_QUERY       joy_wolf                      @Kwesidei not the whole crew   "
      ]
     },
     "execution_count": 4,
     "metadata": {},
     "output_type": "execute_result"
    }
   ],
   "source": [
    "df.head()"
   ]
  },
  {
   "cell_type": "code",
   "execution_count": 5,
   "id": "8ff3919a",
   "metadata": {},
   "outputs": [
    {
     "name": "stdout",
     "output_type": "stream",
     "text": [
      "<class 'pandas.core.frame.DataFrame'>\n",
      "\n",
      "RangeIndex: 1048572 entries, 0 to 1048571\n",
      "\n",
      "Data columns (total 6 columns):\n",
      "\n",
      " #   Column              Non-Null Count    Dtype \n",
      "\n",
      "---  ------              --------------    ----- \n",
      "\n",
      " 0   polarity of tweet   1048572 non-null  int64 \n",
      "\n",
      " 1   id of the tweet     1048572 non-null  int64 \n",
      "\n",
      " 2   date of the tweet   1048572 non-null  object\n",
      "\n",
      " 3   query               1048572 non-null  object\n",
      "\n",
      " 4   user                1048572 non-null  object\n",
      "\n",
      " 5   text of the tweet   1048572 non-null  object\n",
      "\n",
      "dtypes: int64(2), object(4)\n",
      "\n",
      "memory usage: 48.0+ MB\n"
     ]
    }
   ],
   "source": [
    "df.info()"
   ]
  },
  {
   "cell_type": "code",
   "execution_count": 6,
   "id": "b86dfb69",
   "metadata": {},
   "outputs": [
    {
     "data": {
      "text/html": [
       "<div>\n",
       "<style scoped>\n",
       "    .dataframe tbody tr th:only-of-type {\n",
       "        vertical-align: middle;\n",
       "    }\n",
       "\n",
       "    .dataframe tbody tr th {\n",
       "        vertical-align: top;\n",
       "    }\n",
       "\n",
       "    .dataframe thead th {\n",
       "        text-align: right;\n",
       "    }\n",
       "</style>\n",
       "<table border=\"1\" class=\"dataframe\">\n",
       "  <thead>\n",
       "    <tr style=\"text-align: right;\">\n",
       "      <th></th>\n",
       "      <th>polarity of tweet</th>\n",
       "      <th>id of the tweet</th>\n",
       "    </tr>\n",
       "  </thead>\n",
       "  <tbody>\n",
       "    <tr>\n",
       "      <th>count</th>\n",
       "      <td>1.048572e+06</td>\n",
       "      <td>1.048572e+06</td>\n",
       "    </tr>\n",
       "    <tr>\n",
       "      <th>mean</th>\n",
       "      <td>9.482458e-01</td>\n",
       "      <td>1.976168e+09</td>\n",
       "    </tr>\n",
       "    <tr>\n",
       "      <th>std</th>\n",
       "      <td>1.701122e+00</td>\n",
       "      <td>2.300567e+08</td>\n",
       "    </tr>\n",
       "    <tr>\n",
       "      <th>min</th>\n",
       "      <td>0.000000e+00</td>\n",
       "      <td>1.467811e+09</td>\n",
       "    </tr>\n",
       "    <tr>\n",
       "      <th>25%</th>\n",
       "      <td>0.000000e+00</td>\n",
       "      <td>1.824526e+09</td>\n",
       "    </tr>\n",
       "    <tr>\n",
       "      <th>50%</th>\n",
       "      <td>0.000000e+00</td>\n",
       "      <td>1.990870e+09</td>\n",
       "    </tr>\n",
       "    <tr>\n",
       "      <th>75%</th>\n",
       "      <td>0.000000e+00</td>\n",
       "      <td>2.198903e+09</td>\n",
       "    </tr>\n",
       "    <tr>\n",
       "      <th>max</th>\n",
       "      <td>4.000000e+00</td>\n",
       "      <td>2.329206e+09</td>\n",
       "    </tr>\n",
       "  </tbody>\n",
       "</table>\n",
       "</div>"
      ],
      "text/plain": [
       "       polarity of tweet   id of the tweet\n",
       "count        1.048572e+06     1.048572e+06\n",
       "mean         9.482458e-01     1.976168e+09\n",
       "std          1.701122e+00     2.300567e+08\n",
       "min          0.000000e+00     1.467811e+09\n",
       "25%          0.000000e+00     1.824526e+09\n",
       "50%          0.000000e+00     1.990870e+09\n",
       "75%          0.000000e+00     2.198903e+09\n",
       "max          4.000000e+00     2.329206e+09"
      ]
     },
     "execution_count": 6,
     "metadata": {},
     "output_type": "execute_result"
    }
   ],
   "source": [
    "df.describe()"
   ]
  },
  {
   "cell_type": "code",
   "execution_count": 7,
   "id": "528663f7",
   "metadata": {},
   "outputs": [
    {
     "data": {
      "text/plain": [
       "polarity of tweet     0\n",
       "id of the tweet       0\n",
       "date of the tweet     0\n",
       "query                 0\n",
       "user                  0\n",
       "text of the tweet     0\n",
       "dtype: int64"
      ]
     },
     "execution_count": 7,
     "metadata": {},
     "output_type": "execute_result"
    }
   ],
   "source": [
    "df.isnull().sum()"
   ]
  },
  {
   "cell_type": "code",
   "execution_count": 8,
   "id": "887d52e6",
   "metadata": {},
   "outputs": [
    {
     "data": {
      "text/html": [
       "<div>\n",
       "<style scoped>\n",
       "    .dataframe tbody tr th:only-of-type {\n",
       "        vertical-align: middle;\n",
       "    }\n",
       "\n",
       "    .dataframe tbody tr th {\n",
       "        vertical-align: top;\n",
       "    }\n",
       "\n",
       "    .dataframe thead th {\n",
       "        text-align: right;\n",
       "    }\n",
       "</style>\n",
       "<table border=\"1\" class=\"dataframe\">\n",
       "  <thead>\n",
       "    <tr style=\"text-align: right;\">\n",
       "      <th></th>\n",
       "      <th>polarity of tweet</th>\n",
       "      <th>text of the tweet</th>\n",
       "    </tr>\n",
       "  </thead>\n",
       "  <tbody>\n",
       "    <tr>\n",
       "      <th>0</th>\n",
       "      <td>0</td>\n",
       "      <td>is upset that he can't update his Facebook by ...</td>\n",
       "    </tr>\n",
       "    <tr>\n",
       "      <th>1</th>\n",
       "      <td>0</td>\n",
       "      <td>@Kenichan I dived many times for the ball. Man...</td>\n",
       "    </tr>\n",
       "    <tr>\n",
       "      <th>2</th>\n",
       "      <td>0</td>\n",
       "      <td>my whole body feels itchy and like its on fire</td>\n",
       "    </tr>\n",
       "    <tr>\n",
       "      <th>3</th>\n",
       "      <td>0</td>\n",
       "      <td>@nationwideclass no, it's not behaving at all....</td>\n",
       "    </tr>\n",
       "    <tr>\n",
       "      <th>4</th>\n",
       "      <td>0</td>\n",
       "      <td>@Kwesidei not the whole crew</td>\n",
       "    </tr>\n",
       "  </tbody>\n",
       "</table>\n",
       "</div>"
      ],
      "text/plain": [
       "   polarity of tweet                                  text of the tweet \n",
       "0                   0  is upset that he can't update his Facebook by ...\n",
       "1                   0  @Kenichan I dived many times for the ball. Man...\n",
       "2                   0    my whole body feels itchy and like its on fire \n",
       "3                   0  @nationwideclass no, it's not behaving at all....\n",
       "4                   0                      @Kwesidei not the whole crew "
      ]
     },
     "execution_count": 8,
     "metadata": {},
     "output_type": "execute_result"
    }
   ],
   "source": [
    "df.drop(['id of the tweet', 'date of the tweet', 'query', 'user'], axis=1, inplace=True)\n",
    "df.head()"
   ]
  },
  {
   "cell_type": "code",
   "execution_count": 74,
   "id": "74499b21",
   "metadata": {},
   "outputs": [],
   "source": [
    "df.columns = ['sentiment', 'text']"
   ]
  },
  {
   "cell_type": "code",
   "execution_count": 75,
   "id": "676b9b77",
   "metadata": {},
   "outputs": [
    {
     "name": "stdout",
     "output_type": "stream",
     "text": [
      "<class 'pandas.core.frame.DataFrame'>\n",
      "\n",
      "RangeIndex: 1048572 entries, 0 to 1048571\n",
      "\n",
      "Data columns (total 2 columns):\n",
      "\n",
      " #   Column     Non-Null Count    Dtype \n",
      "\n",
      "---  ------     --------------    ----- \n",
      "\n",
      " 0   sentiment  1048572 non-null  int64 \n",
      "\n",
      " 1   text       1048572 non-null  object\n",
      "\n",
      "dtypes: int64(1), object(1)\n",
      "\n",
      "memory usage: 16.0+ MB\n"
     ]
    }
   ],
   "source": [
    "df.info()"
   ]
  },
  {
   "cell_type": "code",
   "execution_count": 76,
   "id": "10f9b639",
   "metadata": {},
   "outputs": [
    {
     "data": {
      "text/plain": [
       "sentiment\n",
       "0    799996\n",
       "4    248576\n",
       "Name: count, dtype: int64"
      ]
     },
     "execution_count": 76,
     "metadata": {},
     "output_type": "execute_result"
    }
   ],
   "source": [
    "df['sentiment'].value_counts()"
   ]
  },
  {
   "cell_type": "code",
   "execution_count": 77,
   "id": "a46a435d",
   "metadata": {},
   "outputs": [
    {
     "data": {
      "text/plain": [
       "<Axes: xlabel='sentiment', ylabel='Count'>"
      ]
     },
     "execution_count": 77,
     "metadata": {},
     "output_type": "execute_result"
    },
    {
     "data": {
      "image/png": "[encoded data removed]",
      "text/plain": [
       "<Figure size 640x480 with 1 Axes>"
      ]
     },
     "metadata": {},
     "output_type": "display_data"
    }
   ],
   "source": [
    "sns.histplot(df['sentiment'], kde=True, color = 'r')"
   ]
  },
  {
   "cell_type": "code",
   "execution_count": 78,
   "id": "86a23a3f",
   "metadata": {},
   "outputs": [
    {
     "data": {
      "text/plain": [
       "<Axes: xlabel='sentiment', ylabel='count'>"
      ]
     },
     "execution_count": 78,
     "metadata": {},
     "output_type": "execute_result"
    },
    {
     "data": {
      "image/png": "[encoded data removed]",
      "text/plain": [
       "<Figure size 640x480 with 1 Axes>"
      ]
     },
     "metadata": {},
     "output_type": "display_data"
    }
   ],
   "source": [
    "sns.countplot(x=df['sentiment'] , color= 'b')"
   ]
  },
  {
   "cell_type": "code",
   "execution_count": 14,
   "id": "2d6db110",
   "metadata": {},
   "outputs": [],
   "source": [
    "word_tokens = [word_tokenize(i) for i in df[\"text\"]]"
   ]
  },
  {
   "cell_type": "code",
   "execution_count": 15,
   "id": "78035ce1",
   "metadata": {},
   "outputs": [
    {
     "data": {
      "text/plain": [
       "[['is',\n",
       "  'upset',\n",
       "  'that',\n",
       "  'he',\n",
       "  'ca',\n",
       "  \"n't\",\n",
       "  'update',\n",
       "  'his',\n",
       "  'Facebook',\n",
       "  'by',\n",
       "  'texting',\n",
       "  'it',\n",
       "  '...',\n",
       "  'and',\n",
       "  'might',\n",
       "  'cry',\n",
       "  'as',\n",
       "  'a',\n",
       "  'result',\n",
       "  'School',\n",
       "  'today',\n",
       "  'also',\n",
       "  '.',\n",
       "  'Blah',\n",
       "  '!'],\n",
       " ['@',\n",
       "  'Kenichan',\n",
       "  'I',\n",
       "  'dived',\n",
       "  'many',\n",
       "  'times',\n",
       "  'for',\n",
       "  'the',\n",
       "  'ball',\n",
       "  '.',\n",
       "  'Managed',\n",
       "  'to',\n",
       "  'save',\n",
       "  '50',\n",
       "  '%',\n",
       "  'The',\n",
       "  'rest',\n",
       "  'go',\n",
       "  'out',\n",
       "  'of',\n",
       "  'bounds'],\n",
       " ['my', 'whole', 'body', 'feels', 'itchy', 'and', 'like', 'its', 'on', 'fire']]"
      ]
     },
     "execution_count": 15,
     "metadata": {},
     "output_type": "execute_result"
    }
   ],
   "source": [
    "word_tokens[:3]"
   ]
  },
  {
   "cell_type": "code",
   "execution_count": 16,
   "id": "aa333f7c",
   "metadata": {},
   "outputs": [],
   "source": [
    "removal = RegexpTokenizer(r\"\\w+\")"
   ]
  },
  {
   "cell_type": "code",
   "execution_count": 17,
   "id": "861e4da7",
   "metadata": {},
   "outputs": [],
   "source": [
    "new_sentiments = [removal.tokenize(i) for i in df[\"text\"]]"
   ]
  },
  {
   "cell_type": "code",
   "execution_count": 18,
   "id": "95afc59a",
   "metadata": {},
   "outputs": [
    {
     "data": {
      "text/plain": [
       "[['is',\n",
       "  'upset',\n",
       "  'that',\n",
       "  'he',\n",
       "  'can',\n",
       "  't',\n",
       "  'update',\n",
       "  'his',\n",
       "  'Facebook',\n",
       "  'by',\n",
       "  'texting',\n",
       "  'it',\n",
       "  'and',\n",
       "  'might',\n",
       "  'cry',\n",
       "  'as',\n",
       "  'a',\n",
       "  'result',\n",
       "  'School',\n",
       "  'today',\n",
       "  'also',\n",
       "  'Blah'],\n",
       " ['Kenichan',\n",
       "  'I',\n",
       "  'dived',\n",
       "  'many',\n",
       "  'times',\n",
       "  'for',\n",
       "  'the',\n",
       "  'ball',\n",
       "  'Managed',\n",
       "  'to',\n",
       "  'save',\n",
       "  '50',\n",
       "  'The',\n",
       "  'rest',\n",
       "  'go',\n",
       "  'out',\n",
       "  'of',\n",
       "  'bounds'],\n",
       " ['my', 'whole', 'body', 'feels', 'itchy', 'and', 'like', 'its', 'on', 'fire']]"
      ]
     },
     "execution_count": 18,
     "metadata": {},
     "output_type": "execute_result"
    }
   ],
   "source": [
    "new_sentiments[:3]"
   ]
  },
  {
   "cell_type": "code",
   "execution_count": 19,
   "id": "abb80577",
   "metadata": {},
   "outputs": [],
   "source": [
    "new_strings = [\" \".join(i) for i in new_sentiments]"
   ]
  },
  {
   "cell_type": "code",
   "execution_count": 20,
   "id": "e54ea238",
   "metadata": {},
   "outputs": [
    {
     "data": {
      "text/plain": [
       "['is upset that he can t update his Facebook by texting it and might cry as a result School today also Blah',\n",
       " 'Kenichan I dived many times for the ball Managed to save 50 The rest go out of bounds',\n",
       " 'my whole body feels itchy and like its on fire']"
      ]
     },
     "execution_count": 20,
     "metadata": {},
     "output_type": "execute_result"
    }
   ],
   "source": [
    "new_strings[:3]"
   ]
  },
  {
   "cell_type": "code",
   "execution_count": 21,
   "id": "ad687bc3",
   "metadata": {},
   "outputs": [],
   "source": [
    "sw = set(stopwords.words(\"english\"))"
   ]
  },
  {
   "cell_type": "code",
   "execution_count": 22,
   "id": "dac756cc",
   "metadata": {},
   "outputs": [],
   "source": [
    "new_str_tokens = [word_tokenize(i) for i in new_strings]"
   ]
  },
  {
   "cell_type": "code",
   "execution_count": 23,
   "id": "8caf3463",
   "metadata": {},
   "outputs": [
    {
     "data": {
      "text/plain": [
       "[['is',\n",
       "  'upset',\n",
       "  'that',\n",
       "  'he',\n",
       "  'can',\n",
       "  't',\n",
       "  'update',\n",
       "  'his',\n",
       "  'Facebook',\n",
       "  'by',\n",
       "  'texting',\n",
       "  'it',\n",
       "  'and',\n",
       "  'might',\n",
       "  'cry',\n",
       "  'as',\n",
       "  'a',\n",
       "  'result',\n",
       "  'School',\n",
       "  'today',\n",
       "  'also',\n",
       "  'Blah'],\n",
       " ['Kenichan',\n",
       "  'I',\n",
       "  'dived',\n",
       "  'many',\n",
       "  'times',\n",
       "  'for',\n",
       "  'the',\n",
       "  'ball',\n",
       "  'Managed',\n",
       "  'to',\n",
       "  'save',\n",
       "  '50',\n",
       "  'The',\n",
       "  'rest',\n",
       "  'go',\n",
       "  'out',\n",
       "  'of',\n",
       "  'bounds'],\n",
       " ['my', 'whole', 'body', 'feels', 'itchy', 'and', 'like', 'its', 'on', 'fire']]"
      ]
     },
     "execution_count": 23,
     "metadata": {},
     "output_type": "execute_result"
    }
   ],
   "source": [
    "new_str_tokens[:3]"
   ]
  },
  {
   "cell_type": "code",
   "execution_count": 24,
   "id": "f4790f19",
   "metadata": {},
   "outputs": [],
   "source": [
    "updated_strings = [[word for word in i if not word in sw] for i in new_str_tokens]"
   ]
  },
  {
   "cell_type": "code",
   "execution_count": 25,
   "id": "8153a25d",
   "metadata": {},
   "outputs": [
    {
     "data": {
      "text/plain": [
       "[['upset',\n",
       "  'update',\n",
       "  'Facebook',\n",
       "  'texting',\n",
       "  'might',\n",
       "  'cry',\n",
       "  'result',\n",
       "  'School',\n",
       "  'today',\n",
       "  'also',\n",
       "  'Blah'],\n",
       " ['Kenichan',\n",
       "  'I',\n",
       "  'dived',\n",
       "  'many',\n",
       "  'times',\n",
       "  'ball',\n",
       "  'Managed',\n",
       "  'save',\n",
       "  '50',\n",
       "  'The',\n",
       "  'rest',\n",
       "  'go',\n",
       "  'bounds'],\n",
       " ['whole', 'body', 'feels', 'itchy', 'like', 'fire']]"
      ]
     },
     "execution_count": 25,
     "metadata": {},
     "output_type": "execute_result"
    }
   ],
   "source": [
    "updated_strings[:3]"
   ]
  },
  {
   "cell_type": "code",
   "execution_count": 26,
   "id": "6fb867ec",
   "metadata": {},
   "outputs": [
    {
     "data": {
      "text/plain": [
       "['upset update Facebook texting might cry result School today also Blah',\n",
       " 'Kenichan I dived many times ball Managed save 50 The rest go bounds',\n",
       " 'whole body feels itchy like fire']"
      ]
     },
     "execution_count": 26,
     "metadata": {},
     "output_type": "execute_result"
    }
   ],
   "source": [
    "dummy_str = [\" \".join(i) for i in updated_strings]\n",
    "dummy_str[:3]"
   ]
  },
  {
   "cell_type": "code",
   "execution_count": 27,
   "id": "5202a7eb",
   "metadata": {},
   "outputs": [],
   "source": [
    "df[\"text\"] = dummy_str"
   ]
  },
  {
   "cell_type": "code",
   "execution_count": 28,
   "id": "9a6e164c",
   "metadata": {},
   "outputs": [
    {
     "data": {
      "text/html": [
       "<div>\n",
       "<style scoped>\n",
       "    .dataframe tbody tr th:only-of-type {\n",
       "        vertical-align: middle;\n",
       "    }\n",
       "\n",
       "    .dataframe tbody tr th {\n",
       "        vertical-align: top;\n",
       "    }\n",
       "\n",
       "    .dataframe thead th {\n",
       "        text-align: right;\n",
       "    }\n",
       "</style>\n",
       "<table border=\"1\" class=\"dataframe\">\n",
       "  <thead>\n",
       "    <tr style=\"text-align: right;\">\n",
       "      <th></th>\n",
       "      <th>polarity of tweet</th>\n",
       "      <th>text</th>\n",
       "    </tr>\n",
       "  </thead>\n",
       "  <tbody>\n",
       "    <tr>\n",
       "      <th>0</th>\n",
       "      <td>0</td>\n",
       "      <td>upset update Facebook texting might cry result...</td>\n",
       "    </tr>\n",
       "    <tr>\n",
       "      <th>1</th>\n",
       "      <td>0</td>\n",
       "      <td>Kenichan I dived many times ball Managed save ...</td>\n",
       "    </tr>\n",
       "    <tr>\n",
       "      <th>2</th>\n",
       "      <td>0</td>\n",
       "      <td>whole body feels itchy like fire</td>\n",
       "    </tr>\n",
       "    <tr>\n",
       "      <th>3</th>\n",
       "      <td>0</td>\n",
       "      <td>nationwideclass behaving mad I see</td>\n",
       "    </tr>\n",
       "    <tr>\n",
       "      <th>4</th>\n",
       "      <td>0</td>\n",
       "      <td>Kwesidei whole crew</td>\n",
       "    </tr>\n",
       "  </tbody>\n",
       "</table>\n",
       "</div>"
      ],
      "text/plain": [
       "   polarity of tweet                                               text\n",
       "0                  0  upset update Facebook texting might cry result...\n",
       "1                  0  Kenichan I dived many times ball Managed save ...\n",
       "2                  0                   whole body feels itchy like fire\n",
       "3                  0                 nationwideclass behaving mad I see\n",
       "4                  0                                Kwesidei whole crew"
      ]
     },
     "execution_count": 28,
     "metadata": {},
     "output_type": "execute_result"
    }
   ],
   "source": [
    "df.head()"
   ]
  },
  {
   "cell_type": "code",
   "execution_count": 79,
   "id": "e158078f",
   "metadata": {},
   "outputs": [
    {
     "data": {
      "text/plain": [
       "sentiment\n",
       "0    799996\n",
       "4    248576\n",
       "Name: count, dtype: int64"
      ]
     },
     "execution_count": 79,
     "metadata": {},
     "output_type": "execute_result"
    }
   ],
   "source": [
    "df[\"sentiment\"].value_counts()"
   ]
  },
  {
   "cell_type": "code",
   "execution_count": 80,
   "id": "6eac4524",
   "metadata": {},
   "outputs": [
    {
     "data": {
      "text/plain": [
       "array([0, 4], dtype=int64)"
      ]
     },
     "execution_count": 80,
     "metadata": {},
     "output_type": "execute_result"
    }
   ],
   "source": [
    "df[\"sentiment\"].unique()"
   ]
  },
  {
   "cell_type": "code",
   "execution_count": 31,
   "id": "9e166584",
   "metadata": {},
   "outputs": [],
   "source": [
    "tokenizer = Tokenizer()"
   ]
  },
  {
   "cell_type": "code",
   "execution_count": 33,
   "id": "34df7cde",
   "metadata": {},
   "outputs": [],
   "source": [
    "tokenizer.fit_on_texts(df[\"text\"])"
   ]
  },
  {
   "cell_type": "code",
   "execution_count": 34,
   "id": "6af2dc79",
   "metadata": {},
   "outputs": [],
   "source": [
    "tokens = tokenizer.texts_to_sequences(df[\"text\"])"
   ]
  },
  {
   "cell_type": "code",
   "execution_count": 35,
   "id": "1824ddcc",
   "metadata": {},
   "outputs": [
    {
     "data": {
      "text/plain": [
       "[[543, 465, 466, 2114, 227, 364, 2276, 72, 9, 212, 920],\n",
       " [24460, 1, 56333, 237, 291, 1268, 1637, 810, 1062, 48, 424, 4, 25818],\n",
       " [348, 680, 371, 2307, 5, 1157],\n",
       " [41616, 10510, 448, 1, 29],\n",
       " [154855, 348, 2364]]"
      ]
     },
     "execution_count": 35,
     "metadata": {},
     "output_type": "execute_result"
    }
   ],
   "source": [
    "tokens[:5]"
   ]
  },
  {
   "cell_type": "code",
   "execution_count": 36,
   "id": "573dfe50",
   "metadata": {},
   "outputs": [],
   "source": [
    "vocab_size = len(tokenizer.word_index)+1"
   ]
  },
  {
   "cell_type": "code",
   "execution_count": 37,
   "id": "b66cc58c",
   "metadata": {},
   "outputs": [
    {
     "data": {
      "text/plain": [
       "467923"
      ]
     },
     "execution_count": 37,
     "metadata": {},
     "output_type": "execute_result"
    }
   ],
   "source": [
    "vocab_size"
   ]
  },
  {
   "cell_type": "code",
   "execution_count": 38,
   "id": "d3182dae",
   "metadata": {},
   "outputs": [],
   "source": [
    "seq = tokenizer.texts_to_sequences(df[\"text\"])"
   ]
  },
  {
   "cell_type": "code",
   "execution_count": 39,
   "id": "c9b524a9",
   "metadata": {},
   "outputs": [
    {
     "data": {
      "text/plain": [
       "[[543, 465, 466, 2114, 227, 364, 2276, 72, 9, 212, 920],\n",
       " [24460, 1, 56333, 237, 291, 1268, 1637, 810, 1062, 48, 424, 4, 25818],\n",
       " [348, 680, 371, 2307, 5, 1157],\n",
       " [41616, 10510, 448, 1, 29],\n",
       " [154855, 348, 2364]]"
      ]
     },
     "execution_count": 39,
     "metadata": {},
     "output_type": "execute_result"
    }
   ],
   "source": [
    "seq[:5]"
   ]
  },
  {
   "cell_type": "code",
   "execution_count": 101,
   "id": "99fe7850",
   "metadata": {},
   "outputs": [],
   "source": [
    "pad_seq = pad_sequences(seq, maxlen=35, padding=\"post\")"
   ]
  },
  {
   "cell_type": "code",
   "execution_count": 102,
   "id": "ae055a7c",
   "metadata": {},
   "outputs": [
    {
     "data": {
      "text/plain": [
       "array([[   543,    465,    466, ...,      0,      0,      0],\n",
       "       [ 24460,      1,  56333, ...,      0,      0,      0],\n",
       "       [   348,    680,    371, ...,      0,      0,      0],\n",
       "       ...,\n",
       "       [467921,    123,      5, ...,      0,      0,      0],\n",
       "       [ 53218,     14,     62, ...,      0,      0,      0],\n",
       "       [    81,     96,    445, ...,      0,      0,      0]])"
      ]
     },
     "execution_count": 102,
     "metadata": {},
     "output_type": "execute_result"
    }
   ],
   "source": [
    "pad_seq"
   ]
  },
  {
   "cell_type": "code",
   "execution_count": 44,
   "id": "24ff7d39",
   "metadata": {},
   "outputs": [],
   "source": [
    "from sklearn.preprocessing import LabelEncoder"
   ]
  },
  {
   "cell_type": "code",
   "execution_count": 45,
   "id": "637ca43d",
   "metadata": {},
   "outputs": [],
   "source": [
    "le = LabelEncoder()"
   ]
  },
  {
   "cell_type": "code",
   "execution_count": 81,
   "id": "d062e80c",
   "metadata": {},
   "outputs": [],
   "source": [
    "labels = le.fit_transform(df[\"sentiment\"])"
   ]
  },
  {
   "cell_type": "code",
   "execution_count": 82,
   "id": "1768e9d8",
   "metadata": {},
   "outputs": [
    {
     "data": {
      "text/plain": [
       "array([0, 0, 0, ..., 1, 1, 1], dtype=int64)"
      ]
     },
     "execution_count": 82,
     "metadata": {},
     "output_type": "execute_result"
    }
   ],
   "source": [
    "labels"
   ]
  },
  {
   "cell_type": "code",
   "execution_count": 83,
   "id": "9fe5fbdc",
   "metadata": {},
   "outputs": [
    {
     "data": {
      "text/html": [
       "<div>\n",
       "<style scoped>\n",
       "    .dataframe tbody tr th:only-of-type {\n",
       "        vertical-align: middle;\n",
       "    }\n",
       "\n",
       "    .dataframe tbody tr th {\n",
       "        vertical-align: top;\n",
       "    }\n",
       "\n",
       "    .dataframe thead th {\n",
       "        text-align: right;\n",
       "    }\n",
       "</style>\n",
       "<table border=\"1\" class=\"dataframe\">\n",
       "  <thead>\n",
       "    <tr style=\"text-align: right;\">\n",
       "      <th></th>\n",
       "      <th>sentiment</th>\n",
       "      <th>text</th>\n",
       "    </tr>\n",
       "  </thead>\n",
       "  <tbody>\n",
       "    <tr>\n",
       "      <th>0</th>\n",
       "      <td>0</td>\n",
       "      <td>upset update Facebook texting might cry result...</td>\n",
       "    </tr>\n",
       "    <tr>\n",
       "      <th>1</th>\n",
       "      <td>0</td>\n",
       "      <td>Kenichan I dived many times ball Managed save ...</td>\n",
       "    </tr>\n",
       "    <tr>\n",
       "      <th>2</th>\n",
       "      <td>0</td>\n",
       "      <td>whole body feels itchy like fire</td>\n",
       "    </tr>\n",
       "    <tr>\n",
       "      <th>3</th>\n",
       "      <td>0</td>\n",
       "      <td>nationwideclass behaving mad I see</td>\n",
       "    </tr>\n",
       "    <tr>\n",
       "      <th>4</th>\n",
       "      <td>0</td>\n",
       "      <td>Kwesidei whole crew</td>\n",
       "    </tr>\n",
       "  </tbody>\n",
       "</table>\n",
       "</div>"
      ],
      "text/plain": [
       "   sentiment                                               text\n",
       "0          0  upset update Facebook texting might cry result...\n",
       "1          0  Kenichan I dived many times ball Managed save ...\n",
       "2          0                   whole body feels itchy like fire\n",
       "3          0                 nationwideclass behaving mad I see\n",
       "4          0                                Kwesidei whole crew"
      ]
     },
     "execution_count": 83,
     "metadata": {},
     "output_type": "execute_result"
    }
   ],
   "source": [
    "df.head()"
   ]
  },
  {
   "cell_type": "code",
   "execution_count": 104,
   "id": "726e9dfd",
   "metadata": {},
   "outputs": [
    {
     "data": {
      "text/html": [
       "<pre style=\"white-space:pre;overflow-x:auto;line-height:normal;font-family:Menlo,'DejaVu Sans Mono',consolas,'Courier New',monospace\"><span style=\"font-weight: bold\">Model: \"sequential_7\"</span>\n",
       "</pre>\n"
      ],
      "text/plain": [
       "\u001b[1mModel: \"sequential_7\"\u001b[0m\n"
      ]
     },
     "metadata": {},
     "output_type": "display_data"
    },
    {
     "data": {
      "text/html": [
       "<pre style=\"white-space:pre;overflow-x:auto;line-height:normal;font-family:Menlo,'DejaVu Sans Mono',consolas,'Courier New',monospace\">┏━━━━━━━━━━━━━━━━━━━━━━━━━━━━━━━━━┳━━━━━━━━━━━━━━━━━━━━━━━━┳━━━━━━━━━━━━━━━┓\n",
       "┃<span style=\"font-weight: bold\"> Layer (type)                    </span>┃<span style=\"font-weight: bold\"> Output Shape           </span>┃<span style=\"font-weight: bold\">       Param # </span>┃\n",
       "┡━━━━━━━━━━━━━━━━━━━━━━━━━━━━━━━━━╇━━━━━━━━━━━━━━━━━━━━━━━━╇━━━━━━━━━━━━━━━┩\n",
       "│ embedding_20 (<span style=\"color: #0087ff; text-decoration-color: #0087ff\">Embedding</span>)        │ ?                      │   <span style=\"color: #00af00; text-decoration-color: #00af00\">0</span> (unbuilt) │\n",
       "├─────────────────────────────────┼────────────────────────┼───────────────┤\n",
       "│ simple_rnn_3 (<span style=\"color: #0087ff; text-decoration-color: #0087ff\">SimpleRNN</span>)        │ ?                      │   <span style=\"color: #00af00; text-decoration-color: #00af00\">0</span> (unbuilt) │\n",
       "├─────────────────────────────────┼────────────────────────┼───────────────┤\n",
       "│ dense_5 (<span style=\"color: #0087ff; text-decoration-color: #0087ff\">Dense</span>)                 │ ?                      │   <span style=\"color: #00af00; text-decoration-color: #00af00\">0</span> (unbuilt) │\n",
       "└─────────────────────────────────┴────────────────────────┴───────────────┘\n",
       "</pre>\n"
      ],
      "text/plain": [
       "┏━━━━━━━━━━━━━━━━━━━━━━━━━━━━━━━━━┳━━━━━━━━━━━━━━━━━━━━━━━━┳━━━━━━━━━━━━━━━┓\n",
       "┃\u001b[1m \u001b[0m\u001b[1mLayer (type)                   \u001b[0m\u001b[1m \u001b[0m┃\u001b[1m \u001b[0m\u001b[1mOutput Shape          \u001b[0m\u001b[1m \u001b[0m┃\u001b[1m \u001b[0m\u001b[1m      Param #\u001b[0m\u001b[1m \u001b[0m┃\n",
       "┡━━━━━━━━━━━━━━━━━━━━━━━━━━━━━━━━━╇━━━━━━━━━━━━━━━━━━━━━━━━╇━━━━━━━━━━━━━━━┩\n",
       "│ embedding_20 (\u001b[38;5;33mEmbedding\u001b[0m)        │ ?                      │   \u001b[38;5;34m0\u001b[0m (unbuilt) │\n",
       "├─────────────────────────────────┼────────────────────────┼───────────────┤\n",
       "│ simple_rnn_3 (\u001b[38;5;33mSimpleRNN\u001b[0m)        │ ?                      │   \u001b[38;5;34m0\u001b[0m (unbuilt) │\n",
       "├─────────────────────────────────┼────────────────────────┼───────────────┤\n",
       "│ dense_5 (\u001b[38;5;33mDense\u001b[0m)                 │ ?                      │   \u001b[38;5;34m0\u001b[0m (unbuilt) │\n",
       "└─────────────────────────────────┴────────────────────────┴───────────────┘\n"
      ]
     },
     "metadata": {},
     "output_type": "display_data"
    },
    {
     "data": {
      "text/html": [
       "<pre style=\"white-space:pre;overflow-x:auto;line-height:normal;font-family:Menlo,'DejaVu Sans Mono',consolas,'Courier New',monospace\"><span style=\"font-weight: bold\"> Total params: </span><span style=\"color: #00af00; text-decoration-color: #00af00\">0</span> (0.00 B)\n",
       "</pre>\n"
      ],
      "text/plain": [
       "\u001b[1m Total params: \u001b[0m\u001b[38;5;34m0\u001b[0m (0.00 B)\n"
      ]
     },
     "metadata": {},
     "output_type": "display_data"
    },
    {
     "data": {
      "text/html": [
       "<pre style=\"white-space:pre;overflow-x:auto;line-height:normal;font-family:Menlo,'DejaVu Sans Mono',consolas,'Courier New',monospace\"><span style=\"font-weight: bold\"> Trainable params: </span><span style=\"color: #00af00; text-decoration-color: #00af00\">0</span> (0.00 B)\n",
       "</pre>\n"
      ],
      "text/plain": [
       "\u001b[1m Trainable params: \u001b[0m\u001b[38;5;34m0\u001b[0m (0.00 B)\n"
      ]
     },
     "metadata": {},
     "output_type": "display_data"
    },
    {
     "data": {
      "text/html": [
       "<pre style=\"white-space:pre;overflow-x:auto;line-height:normal;font-family:Menlo,'DejaVu Sans Mono',consolas,'Courier New',monospace\"><span style=\"font-weight: bold\"> Non-trainable params: </span><span style=\"color: #00af00; text-decoration-color: #00af00\">0</span> (0.00 B)\n",
       "</pre>\n"
      ],
      "text/plain": [
       "\u001b[1m Non-trainable params: \u001b[0m\u001b[38;5;34m0\u001b[0m (0.00 B)\n"
      ]
     },
     "metadata": {},
     "output_type": "display_data"
    }
   ],
   "source": [
    "model = Sequential()\n",
    "model.add(Embedding(input_dim=20000, output_dim=5))\n",
    "model.add(SimpleRNN(32,return_sequences=False))\n",
    "model.add(Dense(3,activation='softmax'))\n",
    "model.summary()"
   ]
  },
  {
   "cell_type": "code",
   "execution_count": 105,
   "id": "45373b71",
   "metadata": {},
   "outputs": [],
   "source": [
    "model.compile(optimizer=\"adam\", loss=\"sparse_categorical_crossentropy\", \n",
    "              metrics=[\"accuracy\"])"
   ]
  },
  {
   "cell_type": "code",
   "execution_count": 108,
   "id": "28fa60ae",
   "metadata": {},
   "outputs": [
    {
     "name": "stdout",
     "output_type": "stream",
     "text": [
      "Epoch 1/10\n",
      "\n",
      "\u001b[1m32768/32768\u001b[0m \u001b[32m━━━━━━━━━━━━━━━━━━━━\u001b[0m\u001b[37m\u001b[0m \u001b[1m183s\u001b[0m 6ms/step - accuracy: 0.8576 - loss: 0.3322\n",
      "\n",
      "Epoch 2/10\n",
      "\n",
      "\u001b[1m32768/32768\u001b[0m \u001b[32m━━━━━━━━━━━━━━━━━━━━\u001b[0m\u001b[37m\u001b[0m \u001b[1m246s\u001b[0m 8ms/step - accuracy: 0.8576 - loss: 0.3324\n",
      "\n",
      "Epoch 3/10\n",
      "\n",
      "\u001b[1m32768/32768\u001b[0m \u001b[32m━━━━━━━━━━━━━━━━━━━━\u001b[0m\u001b[37m\u001b[0m \u001b[1m257s\u001b[0m 8ms/step - accuracy: 0.8578 - loss: 0.3324\n",
      "\n",
      "Epoch 4/10\n",
      "\n",
      "\u001b[1m32768/32768\u001b[0m \u001b[32m━━━━━━━━━━━━━━━━━━━━\u001b[0m\u001b[37m\u001b[0m \u001b[1m257s\u001b[0m 8ms/step - accuracy: 0.8577 - loss: 0.3314\n",
      "\n",
      "Epoch 5/10\n",
      "\n",
      "\u001b[1m32768/32768\u001b[0m \u001b[32m━━━━━━━━━━━━━━━━━━━━\u001b[0m\u001b[37m\u001b[0m \u001b[1m256s\u001b[0m 8ms/step - accuracy: 0.8578 - loss: 0.3318\n",
      "\n",
      "Epoch 6/10\n",
      "\n",
      "\u001b[1m32768/32768\u001b[0m \u001b[32m━━━━━━━━━━━━━━━━━━━━\u001b[0m\u001b[37m\u001b[0m \u001b[1m254s\u001b[0m 8ms/step - accuracy: 0.8589 - loss: 0.3307\n",
      "\n",
      "Epoch 7/10\n",
      "\n",
      "\u001b[1m32768/32768\u001b[0m \u001b[32m━━━━━━━━━━━━━━━━━━━━\u001b[0m\u001b[37m\u001b[0m \u001b[1m4496s\u001b[0m 137ms/step - accuracy: 0.8593 - loss: 0.3302\n",
      "\n",
      "Epoch 8/10\n",
      "\n",
      "\u001b[1m32768/32768\u001b[0m \u001b[32m━━━━━━━━━━━━━━━━━━━━\u001b[0m\u001b[37m\u001b[0m \u001b[1m244s\u001b[0m 7ms/step - accuracy: 0.8591 - loss: 0.3300\n",
      "\n",
      "Epoch 9/10\n",
      "\n",
      "\u001b[1m32768/32768\u001b[0m \u001b[32m━━━━━━━━━━━━━━━━━━━━\u001b[0m\u001b[37m\u001b[0m \u001b[1m224s\u001b[0m 7ms/step - accuracy: 0.8589 - loss: 0.3295\n",
      "\n",
      "Epoch 10/10\n",
      "\n",
      "\u001b[1m32768/32768\u001b[0m \u001b[32m━━━━━━━━━━━━━━━━━━━━\u001b[0m\u001b[37m\u001b[0m \u001b[1m216s\u001b[0m 7ms/step - accuracy: 0.8595 - loss: 0.3295\n"
     ]
    },
    {
     "data": {
      "text/plain": [
       "<keras.src.callbacks.history.History at 0x1b7d858a0d0>"
      ]
     },
     "execution_count": 108,
     "metadata": {},
     "output_type": "execute_result"
    }
   ],
   "source": [
    "model.fit(pad_seq, labels, epochs=10)"
   ]
  },
  {
   "cell_type": "code",
   "execution_count": 134,
   "id": "bcce283e",
   "metadata": {},
   "outputs": [],
   "source": [
    "new_text = \"I am happy, As I scored good marks in test\""
   ]
  },
  {
   "cell_type": "code",
   "execution_count": 135,
   "id": "468df6cb",
   "metadata": {},
   "outputs": [],
   "source": [
    "new_tokens = tokenizer.texts_to_sequences([new_text])"
   ]
  },
  {
   "cell_type": "code",
   "execution_count": 136,
   "id": "34daedb5",
   "metadata": {},
   "outputs": [
    {
     "data": {
      "text/plain": [
       "[[1, 503, 76, 977, 1, 5267, 7, 3955, 279, 555]]"
      ]
     },
     "execution_count": 136,
     "metadata": {},
     "output_type": "execute_result"
    }
   ],
   "source": [
    "new_tokens"
   ]
  },
  {
   "cell_type": "code",
   "execution_count": 137,
   "id": "0b249168",
   "metadata": {},
   "outputs": [],
   "source": [
    "new_pad_seq = pad_sequences(new_tokens, maxlen=35, padding=\"post\")"
   ]
  },
  {
   "cell_type": "code",
   "execution_count": 138,
   "id": "08a34109",
   "metadata": {},
   "outputs": [
    {
     "data": {
      "text/plain": [
       "array([[   1,  503,   76,  977,    1, 5267,    7, 3955,  279,  555,    0,\n",
       "           0,    0,    0,    0,    0,    0,    0,    0,    0,    0,    0,\n",
       "           0,    0,    0,    0,    0,    0,    0,    0,    0,    0,    0,\n",
       "           0,    0]])"
      ]
     },
     "execution_count": 138,
     "metadata": {},
     "output_type": "execute_result"
    }
   ],
   "source": [
    "new_pad_seq"
   ]
  },
  {
   "cell_type": "code",
   "execution_count": 139,
   "id": "559db951",
   "metadata": {},
   "outputs": [
    {
     "name": "stdout",
     "output_type": "stream",
     "text": [
      "\u001b[1m1/1\u001b[0m \u001b[32m━━━━━━━━━━━━━━━━━━━━\u001b[0m\u001b[37m\u001b[0m \u001b[1m0s\u001b[0m 26ms/step\n",
      "\n",
      "Positive Sentiment\n"
     ]
    }
   ],
   "source": [
    "predictions = model.predict(new_pad_seq)\n",
    "predicted_class_index = predictions.argmax(axis=-1)\n",
    "if predicted_class_index[0] == 0:\n",
    "    print(\"Negetive Sentiment\");\n",
    "else:\n",
    "    print(\"Positive Sentiment\")"
   ]
  }
 ],
 "metadata": {
  "kernelspec": {
   "display_name": "Python 3 (ipykernel)",
   "language": "python",
   "name": "python3"
  },
  "language_info": {
   "codemirror_mode": {
    "name": "ipython",
    "version": 3
   },
   "file_extension": ".py",
   "mimetype": "text/x-python",
   "name": "python",
   "nbconvert_exporter": "python",
   "pygments_lexer": "ipython3",
   "version": "3.12.1"
  }
 },
 "nbformat": 4,
 "nbformat_minor": 5
}
